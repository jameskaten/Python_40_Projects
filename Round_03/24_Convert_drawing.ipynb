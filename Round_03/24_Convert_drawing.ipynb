{
 "cells": [
  {
   "cell_type": "markdown",
   "metadata": {},
   "source": [
    "## Project 24\n",
    "Convert the pic to drawing"
   ]
  },
  {
   "cell_type": "code",
   "execution_count": 26,
   "metadata": {},
   "outputs": [],
   "source": [
    "import numpy as np\n",
    "import cv2\n",
    "\n",
    "img = cv2.imread(r'FamilyPhoto05.jpg', 1)\n",
    "img = cv2.resize(img, dsize=(0,0), fx=0.2, fy=0.2, interpolation=cv2.INTER_LINEAR)  #image scale\n",
    "\n",
    "cartoon_img = cv2.stylization(img, sigma_s=100, sigma_r=0.2)\n",
    "\n",
    "cv2.imshow('cartoon_view', cartoon_img)\n",
    "cv2.waitKey(0)\n",
    "cv2.destroyAllWindows()\n"
   ]
  },
  {
   "cell_type": "markdown",
   "metadata": {},
   "source": [
    "## Optimizatin"
   ]
  },
  {
   "cell_type": "code",
   "execution_count": null,
   "metadata": {},
   "outputs": [],
   "source": [
    "import numpy as np\n",
    "import cv2\n",
    "\n",
    "img = cv2.imread(r'FamilyPhoto05.jpg', 1)\n",
    "img = cv2.resize(img, dsize=(0,0), fx=0.2, fy=0.2, interpolation=cv2.INTER_LINEAR)  #image scale\n",
    "\n",
    "def onChange(pos):\n",
    "    pass\n",
    "\n",
    "cv2.namedWindow(\"Trackbar Windows\")     #create TrackWindow\n",
    "\n",
    "cv2.createTrackbar(\"sigma_s\", \"Trackbar Windows\", 0, 200, onChange)\n",
    "cv2.createTrackbar(\"sigma_r\", \"Trackbar Windows\", 0, 100, onChange)\n",
    "\n",
    "cv2.setTrackbarPos(\"sigma_s\", \"Trackbar Windows\", 100)\n",
    "cv2.setTrackbarPos(\"sigma_r\", \"Trackbar Windows\", 10)\n",
    "\n",
    "\n",
    "cartoon_img = cv2.stylization(img, sigma_s=100, sigma_r=0.2)\n",
    "\n",
    "cv2.imshow('cartoon_view', cartoon_img)\n",
    "cv2.waitKey(0)\n",
    "cv2.destroyAllWindows()\n"
   ]
  }
 ],
 "metadata": {
  "kernelspec": {
   "display_name": "Python 3.6.2 64-bit",
   "language": "python",
   "name": "python3"
  },
  "language_info": {
   "codemirror_mode": {
    "name": "ipython",
    "version": 3
   },
   "file_extension": ".py",
   "mimetype": "text/x-python",
   "name": "python",
   "nbconvert_exporter": "python",
   "pygments_lexer": "ipython3",
   "version": "3.6.2"
  },
  "orig_nbformat": 4,
  "vscode": {
   "interpreter": {
    "hash": "5101fdaab3cf3d3e08bb52931d9e81fe01e2a86a264a5f0d2a64a0493622ff29"
   }
  }
 },
 "nbformat": 4,
 "nbformat_minor": 2
}
