{
 "cells": [
  {
   "cell_type": "markdown",
   "metadata": {},
   "source": [
    "## Project 26::LottoViwer\n",
    "\n",
    "pip install oepnpyxl # Excel library"
   ]
  },
  {
   "cell_type": "code",
   "execution_count": 11,
   "metadata": {},
   "outputs": [
    {
     "name": "stdout",
     "output_type": "stream",
     "text": [
      "     년도    회차         추첨일 1등당첨자수          1등당첨금액 2등당첨자수       2등당첨금액 3등당첨자수  \\\n",
      "2  2023  1049  2023.01.07     15  1,727,810,100원     89  48,533,992원   2968   \n",
      "3  2022  1048  2022.12.31     17  1,612,494,508원    102  44,791,515원   3817   \n",
      "4   NaN  1047  2022.12.24      9  2,748,797,875원     83  49,677,071원   2728   \n",
      "5   NaN  1046  2022.12.17     12  2,011,415,719원     57  70,575,991원   2959   \n",
      "6   NaN  1045  2022.12.10     13  1,990,060,443원     67  64,355,189원   2699   \n",
      "\n",
      "       3등당첨금액  4등당첨자수   4등당첨금액   5등당첨자수  5등당첨금액 당첨번호1  당첨번호2  당첨번호3  당첨번호4  \\\n",
      "2  1,455,366원  147061  50,000원  2462622  5,000원     3    5.0   13.0   20.0   \n",
      "3  1,196,944원  170086  50,000원  2721555  5,000원     6   12.0   17.0   21.0   \n",
      "4  1,511,436원  139530  50,000원  2313403  5,000원     2   20.0   33.0   40.0   \n",
      "5  1,359,524원  139560  50,000원  2260269  5,000원     7   16.0   25.0   29.0   \n",
      "6  1,597,554원  135872  50,000원  2280432  5,000원     6   14.0   15.0   19.0   \n",
      "\n",
      "   당첨번호5  당첨번호6 보너스번호  \n",
      "2   21.0   37.0    17  \n",
      "3   32.0   39.0    30  \n",
      "4   42.0   44.0    32  \n",
      "5   35.0   36.0    28  \n",
      "6   21.0   41.0    37  \n",
      "[1049 1048 1047 ... 3 2 1]\n",
      "['1,727,810,100원' '1,612,494,508원' '2,748,797,875원' ... '2,000,000,000원'\n",
      " '2,002,006,800원' '0원']\n"
     ]
    }
   ],
   "source": [
    "import pandas as pd\n",
    "\n",
    "file_path = r'Lotto01.xlsx'\n",
    "df_from_excel = pd.read_excel(file_path, engine='openpyxl')\n",
    "\n",
    "df_from_excel = df_from_excel.drop(index=[0,1])\n",
    "\n",
    "df_from_excel.columns = [\n",
    "    '년도', '회차', '추첨일', '1등당첨자수',\n",
    "    '1등당첨금액', '2등당첨자수', '2등당첨금액', '3등당첨자수',\n",
    "    '3등당첨금액', '4등당첨자수', '4등당첨금액','5등당첨자수',\n",
    "    '5등당첨금액', '당첨번호1', '당첨번호2', '당첨번호3', \n",
    "    '당첨번호4', '당첨번호5', '당첨번호6', '보너스번호'\n",
    "    ]\n",
    "\n",
    "print(df_from_excel.head())  # print the front part\n",
    "\n",
    "print(df_from_excel['회차'].values)\n",
    "\n",
    "print(df_from_excel['1등당첨금액'].values)"
   ]
  },
  {
   "cell_type": "markdown",
   "metadata": {},
   "source": [
    "### Drawing a chart"
   ]
  },
  {
   "cell_type": "code",
   "execution_count": 20,
   "metadata": {},
   "outputs": [
    {
     "name": "stdout",
     "output_type": "stream",
     "text": [
      "          1등당첨금액     2등당첨금액   3등당첨금액  4등당첨금액  5등당첨금액\n",
      "2     1727810100   48533992  1455366   50000    5000\n",
      "3     1612494508   44791515  1196944   50000    5000\n",
      "4     2748797875   49677071  1511436   50000    5000\n",
      "5     2011415719   70575991  1359524   50000    5000\n",
      "6     1990060443   64355189  1597554   50000    5000\n",
      "...          ...        ...      ...     ...     ...\n",
      "1046           0          0  6033800  166500   10000\n",
      "1047           0  211191200  7282400  152100   10000\n",
      "1048  2000000000          0  1174100   54900   10000\n",
      "1049  2002006800   94866800  1842000  100800   10000\n",
      "1050           0  143934100  5140500  113400   10000\n",
      "\n",
      "[1049 rows x 5 columns]\n"
     ]
    },
    {
     "data": {
      "image/png": "[encoded data removed]",
      "text/plain": [
       "<Figure size 720x432 with 1 Axes>"
      ]
     },
     "metadata": {
      "needs_background": "light"
     },
     "output_type": "display_data"
    }
   ],
   "source": [
    "import pandas as pd\n",
    "import matplotlib.pyplot as plt\n",
    "from matplotlib import font_manager, rc\n",
    "\n",
    "file_path = r'Lotto01.xlsx'\n",
    "df_from_excel = pd.read_excel(file_path, engine='openpyxl')\n",
    "\n",
    "df_from_excel = df_from_excel.drop(index=[0,1])\n",
    "\n",
    "df_from_excel.columns = [\n",
    "    '년도', '회차', '추첨일', '1등당첨자수',\n",
    "    '1등당첨금액', '2등당첨자수', '2등당첨금액', '3등당첨자수',\n",
    "    '3등당첨금액', '4등당첨자수', '4등당첨금액','5등당첨자수',\n",
    "    '5등당첨금액', '당첨번호1', '당첨번호2', '당첨번호3', \n",
    "    '당첨번호4', '당첨번호5', '당첨번호6', '보너스번호'\n",
    "    ]\n",
    "\n",
    "df_from_excel['1등당첨금액']=df_from_excel['1등당첨금액'].str.replace(pat=r'[ㄱㅡ|가-힣,]+', repl=r'', regex=True)\n",
    "df_from_excel['2등당첨금액']=df_from_excel['2등당첨금액'].str.replace(pat=r'[ㄱㅡ|가-힣,]+', repl=r'', regex=True)\n",
    "df_from_excel['3등당첨금액']=df_from_excel['3등당첨금액'].str.replace(pat=r'[ㄱㅡ|가-힣,]+', repl=r'', regex=True)\n",
    "df_from_excel['4등당첨금액']=df_from_excel['4등당첨금액'].str.replace(pat=r'[ㄱㅡ|가-힣,]+', repl=r'', regex=True)\n",
    "df_from_excel['5등당첨금액']=df_from_excel['5등당첨금액'].str.replace(pat=r'[ㄱㅡ|가-힣,]+', repl=r'', regex=True)\n",
    "\n",
    "df_from_excel[\"1등당첨금액\"] = pd.to_numeric(df_from_excel[\"1등당첨금액\"])\n",
    "df_from_excel[\"2등당첨금액\"] = pd.to_numeric(df_from_excel[\"2등당첨금액\"])\n",
    "df_from_excel[\"3등당첨금액\"] = pd.to_numeric(df_from_excel[\"3등당첨금액\"])\n",
    "df_from_excel[\"4등당첨금액\"] = pd.to_numeric(df_from_excel[\"4등당첨금액\"])\n",
    "df_from_excel[\"5등당첨금액\"] = pd.to_numeric(df_from_excel[\"5등당첨금액\"])\n",
    "\n",
    "print(df_from_excel[['1등당첨금액', '2등당첨금액', '3등당첨금액', '4등당첨금액', '5등당첨금액']])\n",
    "\n",
    "font_path = \"C:/Windows/Fonts/NGULIM.TTF\"\n",
    "font = font_manager.FontProperties(fname=font_path).get_name()\n",
    "rc('font', family=font)\n",
    "\n",
    "x = df_from_excel['회차'].iloc[:100].values\n",
    "price = df_from_excel['1등당첨금액'].iloc[:100].values/100000000\n",
    "\n",
    "plt.figure(figsize=(10,6))\n",
    "plt.xlabel('회차')\n",
    "plt.ylabel('당첨금액(단위:억원')\n",
    "\n",
    "plt.bar(x, price, width=0.4)\n",
    "\n",
    "plt.show()\n"
   ]
  },
  {
   "cell_type": "markdown",
   "metadata": {},
   "source": [
    "### Number Frequency Analysis\n"
   ]
  },
  {
   "cell_type": "code",
   "execution_count": 24,
   "metadata": {},
   "outputs": [
    {
     "name": "stdout",
     "output_type": "stream",
     "text": [
      "[(34, 161), (18, 155), (12, 154), (17, 151), (27, 151), (14, 150), (39, 150), (13, 149), (20, 147), (43, 147)]\n"
     ]
    }
   ],
   "source": [
    "import pandas as pd\n",
    "from collections import Counter\n",
    "\n",
    "file_path = r'Lotto01.xlsx'\n",
    "df_from_excel = pd.read_excel(file_path, engine='openpyxl')\n",
    "\n",
    "df_from_excel = df_from_excel.drop(index=[0,1])\n",
    "\n",
    "df_from_excel.columns = [\n",
    "    '년도', '회차', '추첨일', '1등당첨자수',\n",
    "    '1등당첨금액', '2등당첨자수', '2등당첨금액', '3등당첨자수',\n",
    "    '3등당첨금액', '4등당첨자수', '4등당첨금액','5등당첨자수',\n",
    "    '5등당첨금액', '당첨번호1', '당첨번호2', '당첨번호3', \n",
    "    '당첨번호4', '당첨번호5', '당첨번호6', '보너스번호'\n",
    "    ]\n",
    "\n",
    "# Read numbers as a type and put them in the list \n",
    "num_list = list(df_from_excel['당첨번호1'].astype(int)) \n",
    "num_list += list(df_from_excel['당첨번호2'].astype(int)) \n",
    "num_list += list(df_from_excel['당첨번호3'].astype(int)) \n",
    "num_list += list(df_from_excel['당첨번호4'].astype(int)) \n",
    "num_list += list(df_from_excel['당첨번호5'].astype(int)) \n",
    "num_list += list(df_from_excel['당첨번호6'].astype(int)) \n",
    "\n",
    "# Find the most frequnt numbers\n",
    "count = Counter(num_list)\n",
    "most_num = count.most_common(10)\n",
    "\n",
    "print(most_num)"
   ]
  },
  {
   "cell_type": "code",
   "execution_count": null,
   "metadata": {},
   "outputs": [],
   "source": []
  }
 ],
 "metadata": {
  "kernelspec": {
   "display_name": "Python 3.6.2 64-bit",
   "language": "python",
   "name": "python3"
  },
  "language_info": {
   "codemirror_mode": {
    "name": "ipython",
    "version": 3
   },
   "file_extension": ".py",
   "mimetype": "text/x-python",
   "name": "python",
   "nbconvert_exporter": "python",
   "pygments_lexer": "ipython3",
   "version": "3.6.2"
  },
  "orig_nbformat": 4,
  "vscode": {
   "interpreter": {
    "hash": "5101fdaab3cf3d3e08bb52931d9e81fe01e2a86a264a5f0d2a64a0493622ff29"
   }
  }
 },
 "nbformat": 4,
 "nbformat_minor": 2
}
