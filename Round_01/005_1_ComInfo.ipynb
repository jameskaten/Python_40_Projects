{
 "cells": [
  {
   "cell_type": "markdown",
   "metadata": {},
   "source": [
    "Project 5-1 \n",
    "computer information "
   ]
  },
  {
   "cell_type": "code",
   "execution_count": 6,
   "metadata": {},
   "outputs": [
    {
     "name": "stdout",
     "output_type": "stream",
     "text": [
      "scpufreq(current=2703.0, min=0.0, max=2904.0)\n",
      "2\n",
      "svmem(total=17089409024, available=7739371520, percent=54.7, used=9350037504, free=7739371520)\n",
      "[sdiskpart(device='C:\\\\', mountpoint='C:\\\\', fstype='NTFS', opts='rw,fixed', maxfile=255, maxpath=260), sdiskpart(device='D:\\\\', mountpoint='D:\\\\', fstype='exFAT', opts='rw,removable', maxfile=255, maxpath=260)]\n",
      "snetio(bytes_sent=253701123, bytes_recv=12103477324, packets_sent=907425, packets_recv=9368174, errin=0, errout=0, dropin=0, dropout=0)\n"
     ]
    }
   ],
   "source": [
    "import psutil\n",
    "\n",
    "cpu = psutil.cpu_freq()  # cpu speed\n",
    "print(cpu)\n",
    "\n",
    "cpu_core = psutil.cpu_count(logical=False)  # physicl # of core\n",
    "print(cpu_core)\n",
    "\n",
    "memory = psutil.virtual_memory()   # memory information \n",
    "print(memory)\n",
    "\n",
    "disk = psutil.disk_partitions()   # disk information \n",
    "print(disk)\n",
    "\n",
    "net = psutil.net_io_counters()  # network data \n",
    "print(net)"
   ]
  },
  {
   "cell_type": "code",
   "execution_count": null,
   "metadata": {},
   "outputs": [],
   "source": []
  }
 ],
 "metadata": {
  "kernelspec": {
   "display_name": "Python 3.6.2 64-bit",
   "language": "python",
   "name": "python3"
  },
  "language_info": {
   "codemirror_mode": {
    "name": "ipython",
    "version": 3
   },
   "file_extension": ".py",
   "mimetype": "text/x-python",
   "name": "python",
   "nbconvert_exporter": "python",
   "pygments_lexer": "ipython3",
   "version": "3.6.2"
  },
  "orig_nbformat": 4,
  "vscode": {
   "interpreter": {
    "hash": "5101fdaab3cf3d3e08bb52931d9e81fe01e2a86a264a5f0d2a64a0493622ff29"
   }
  }
 },
 "nbformat": 4,
 "nbformat_minor": 2
}
