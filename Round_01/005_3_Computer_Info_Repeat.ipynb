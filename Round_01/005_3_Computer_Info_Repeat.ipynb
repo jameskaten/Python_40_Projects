{
 "cells": [
  {
   "cell_type": "code",
   "execution_count": 5,
   "metadata": {},
   "outputs": [
    {
     "name": "stdout",
     "output_type": "stream",
     "text": [
      "CPU usage: 31.5%\n",
      "available memory: 7.8GB\n",
      "send: 246.6MB recv: 11549.8MB\n",
      "CPU usage: 21.8%\n",
      "available memory: 7.8GB\n",
      "send: 0.0MB recv: 0.0MB\n",
      "CPU usage: 28.0%\n",
      "available memory: 7.8GB\n",
      "send: 0.0MB recv: 0.0MB\n",
      "CPU usage: 42.7%\n",
      "available memory: 7.8GB\n",
      "send: 0.0MB recv: 0.0MB\n",
      "CPU usage: 24.4%\n",
      "available memory: 7.8GB\n",
      "send: 0.0MB recv: 0.0MB\n",
      "CPU usage: 30.2%\n",
      "available memory: 7.8GB\n",
      "send: 0.0MB recv: 0.0MB\n",
      "CPU usage: 27.7%\n",
      "available memory: 7.8GB\n",
      "send: 0.0MB recv: 0.0MB\n",
      "CPU usage: 33.7%\n",
      "available memory: 7.8GB\n",
      "send: 0.0MB recv: 0.0MB\n",
      "CPU usage: 36.4%\n",
      "available memory: 7.8GB\n",
      "send: 0.0MB recv: 0.0MB\n",
      "CPU usage: 36.4%\n",
      "available memory: 7.8GB\n",
      "send: 0.0MB recv: 0.0MB\n",
      "CPU usage: 53.5%\n",
      "available memory: 7.8GB\n",
      "send: 0.0MB recv: 0.0MB\n"
     ]
    },
    {
     "ename": "KeyboardInterrupt",
     "evalue": "",
     "output_type": "error",
     "traceback": [
      "\u001b[1;31m---------------------------------------------------------------------------\u001b[0m",
      "\u001b[1;31mKeyboardInterrupt\u001b[0m                         Traceback (most recent call last)",
      "\u001b[1;32m<ipython-input-5-7e0dc7e4ec3a>\u001b[0m in \u001b[0;36m<module>\u001b[1;34m\u001b[0m\n\u001b[0;32m      8\u001b[0m \u001b[1;33m\u001b[0m\u001b[0m\n\u001b[0;32m      9\u001b[0m \u001b[1;32mwhile\u001b[0m \u001b[1;32mTrue\u001b[0m\u001b[1;33m:\u001b[0m\u001b[1;33m\u001b[0m\u001b[0m\n\u001b[1;32m---> 10\u001b[1;33m     \u001b[0mcpu_p\u001b[0m \u001b[1;33m=\u001b[0m \u001b[0mpsutil\u001b[0m\u001b[1;33m.\u001b[0m\u001b[0mcpu_percent\u001b[0m\u001b[1;33m(\u001b[0m\u001b[0minterval\u001b[0m\u001b[1;33m=\u001b[0m\u001b[1;36m1\u001b[0m\u001b[1;33m)\u001b[0m\u001b[1;33m\u001b[0m\u001b[0m\n\u001b[0m\u001b[0;32m     11\u001b[0m     \u001b[0mprint\u001b[0m\u001b[1;33m(\u001b[0m\u001b[1;34mf'CPU usage: {cpu_p}%'\u001b[0m\u001b[1;33m)\u001b[0m\u001b[1;33m\u001b[0m\u001b[0m\n\u001b[0;32m     12\u001b[0m \u001b[1;33m\u001b[0m\u001b[0m\n",
      "\u001b[1;32mc:\\Users\\JAMES\\AppData\\Local\\Programs\\Python\\Python36\\lib\\site-packages\\psutil\\__init__.py\u001b[0m in \u001b[0;36mcpu_percent\u001b[1;34m(interval, percpu)\u001b[0m\n\u001b[0;32m   1742\u001b[0m         \u001b[1;32mif\u001b[0m \u001b[0mblocking\u001b[0m\u001b[1;33m:\u001b[0m\u001b[1;33m\u001b[0m\u001b[0m\n\u001b[0;32m   1743\u001b[0m             \u001b[0mt1\u001b[0m \u001b[1;33m=\u001b[0m \u001b[0mcpu_times\u001b[0m\u001b[1;33m(\u001b[0m\u001b[1;33m)\u001b[0m\u001b[1;33m\u001b[0m\u001b[0m\n\u001b[1;32m-> 1744\u001b[1;33m             \u001b[0mtime\u001b[0m\u001b[1;33m.\u001b[0m\u001b[0msleep\u001b[0m\u001b[1;33m(\u001b[0m\u001b[0minterval\u001b[0m\u001b[1;33m)\u001b[0m\u001b[1;33m\u001b[0m\u001b[0m\n\u001b[0m\u001b[0;32m   1745\u001b[0m         \u001b[1;32melse\u001b[0m\u001b[1;33m:\u001b[0m\u001b[1;33m\u001b[0m\u001b[0m\n\u001b[0;32m   1746\u001b[0m             \u001b[0mt1\u001b[0m \u001b[1;33m=\u001b[0m \u001b[0m_last_cpu_times\u001b[0m\u001b[1;33m\u001b[0m\u001b[0m\n",
      "\u001b[1;31mKeyboardInterrupt\u001b[0m: "
     ]
    }
   ],
   "source": [
    "import psutil\n",
    "\n",
    "curr_sent = 0\n",
    "curr_recv = 0\n",
    "\n",
    "prev_sent = 0\n",
    "prev_recv = 0\n",
    "\n",
    "while True:\n",
    "    cpu_p = psutil.cpu_percent(interval=1)\n",
    "    print(f'CPU usage: {cpu_p}%')\n",
    "    \n",
    "    memory = psutil.virtual_memory()\n",
    "    memory_avail = round(memory.available/1024**3, 1)\n",
    "    print(f'available memory: {memory_avail}GB')\n",
    "    \n",
    "    net = psutil.net_io_counters()\n",
    "    curr_sent = net.bytes_sent/1024**2\n",
    "    curr_recv = net.bytes_recv/1024**2\n",
    "    \n",
    "    sent = round(curr_sent-prev_sent, 1)\n",
    "    recv = round(curr_recv-prev_recv, 1)\n",
    "    \n",
    "    print(f'send: {sent}MB recv: {recv}MB')\n",
    "    \n",
    "    prev_sent = curr_sent\n",
    "    prev_recv = curr_recv"
   ]
  },
  {
   "cell_type": "code",
   "execution_count": null,
   "metadata": {},
   "outputs": [],
   "source": []
  }
 ],
 "metadata": {
  "kernelspec": {
   "display_name": "Python 3.6.2 64-bit",
   "language": "python",
   "name": "python3"
  },
  "language_info": {
   "codemirror_mode": {
    "name": "ipython",
    "version": 3
   },
   "file_extension": ".py",
   "mimetype": "text/x-python",
   "name": "python",
   "nbconvert_exporter": "python",
   "pygments_lexer": "ipython3",
   "version": "3.6.2"
  },
  "orig_nbformat": 4,
  "vscode": {
   "interpreter": {
    "hash": "5101fdaab3cf3d3e08bb52931d9e81fe01e2a86a264a5f0d2a64a0493622ff29"
   }
  }
 },
 "nbformat": 4,
 "nbformat_minor": 2
}
