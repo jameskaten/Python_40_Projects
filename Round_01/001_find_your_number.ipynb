{
 "cells": [
  {
   "cell_type": "markdown",
   "metadata": {},
   "source": []
  },
  {
   "cell_type": "markdown",
   "metadata": {},
   "source": [
    "# 1st project"
   ]
  },
  {
   "cell_type": "code",
   "execution_count": 3,
   "metadata": {},
   "outputs": [
    {
     "name": "stdout",
     "output_type": "stream",
     "text": [
      "29\n"
     ]
    }
   ],
   "source": [
    "import random\n",
    "\n",
    "random_number = random.randint(1, 100)\n",
    "\n",
    "print(random_number)"
   ]
  },
  {
   "cell_type": "code",
   "execution_count": 4,
   "metadata": {},
   "outputs": [
    {
     "name": "stdout",
     "output_type": "stream",
     "text": [
      "up\n",
      "up\n",
      "down\n",
      "down\n",
      "down\n",
      "up\n",
      "congraturations! You got the answer in 7 counts\n"
     ]
    }
   ],
   "source": [
    "game_count = 1\n",
    "\n",
    "while True:\n",
    "    try:        # try: except: phrase\n",
    "        my_number = int(input(\"Input number between 1~100: \"))\n",
    "        \n",
    "        if my_number > random_number:\n",
    "            print(\"down\")\n",
    "        elif my_number < random_number:\n",
    "            print(\"up\")\n",
    "        elif my_number == random_number:\n",
    "            print(f\"congraturations! You got the answer in {game_count} counts\")\n",
    "            break\n",
    "        \n",
    "        game_count = game_count + 1\n",
    "    except:\n",
    "        print(\"Error! Input numbers\")\n",
    "    "
   ]
  }
 ],
 "metadata": {
  "kernelspec": {
   "display_name": "Python 3.6.2 64-bit",
   "language": "python",
   "name": "python3"
  },
  "language_info": {
   "codemirror_mode": {
    "name": "ipython",
    "version": 3
   },
   "file_extension": ".py",
   "mimetype": "text/x-python",
   "name": "python",
   "nbconvert_exporter": "python",
   "pygments_lexer": "ipython3",
   "version": "3.6.2"
  },
  "orig_nbformat": 4,
  "vscode": {
   "interpreter": {
    "hash": "5101fdaab3cf3d3e08bb52931d9e81fe01e2a86a264a5f0d2a64a0493622ff29"
   }
  }
 },
 "nbformat": 4,
 "nbformat_minor": 2
}
