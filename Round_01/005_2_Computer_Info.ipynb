{
 "cells": [
  {
   "cell_type": "markdown",
   "metadata": {},
   "source": [
    "Project 5-2\n",
    "Computer information "
   ]
  },
  {
   "cell_type": "code",
   "execution_count": 9,
   "metadata": {},
   "outputs": [
    {
     "name": "stdout",
     "output_type": "stream",
     "text": [
      "cpu speed: 2.7GHz\n",
      "core: 2\n",
      "memory: 16GB\n",
      "C:\\ NTFS disk capacity: 462GB\n",
      "D:\\ exFAT disk capacity: 238GB\n",
      "send: 244.5MB recv: 11546.9MB\n"
     ]
    }
   ],
   "source": [
    "import psutil\n",
    "\n",
    "cpu = psutil.cpu_freq()\n",
    "cpu_current_ghz = round(cpu.current/1000, 2)\n",
    "print(f\"cpu speed: {cpu_current_ghz}GHz\")\n",
    "\n",
    "cpu_core = psutil.cpu_count(logical=False)\n",
    "print(f\"core: {cpu_core}\")\n",
    "\n",
    "memory = psutil.virtual_memory()\n",
    "memory_total = round(memory.total/1024**3)\n",
    "print(f\"memory: {memory_total}GB\")\n",
    "\n",
    "disk = psutil.disk_partitions()\n",
    "for p in disk:\n",
    "    print(p.mountpoint, p.fstype, end=' ')\n",
    "    du = psutil.disk_usage(p.mountpoint)\n",
    "    disk_total = round(du.total/1024**3)\n",
    "    print(f'disk capacity: {disk_total}GB')\n",
    "    \n",
    "net = psutil.net_io_counters()\n",
    "sent = round(net.bytes_sent/1024**2, 1)\n",
    "recv = round(net.bytes_recv/1024**2, 1)\n",
    "print(f'send: {sent}MB recv: {recv}MB')"
   ]
  },
  {
   "cell_type": "code",
   "execution_count": null,
   "metadata": {},
   "outputs": [],
   "source": []
  }
 ],
 "metadata": {
  "kernelspec": {
   "display_name": "Python 3.6.2 64-bit",
   "language": "python",
   "name": "python3"
  },
  "language_info": {
   "codemirror_mode": {
    "name": "ipython",
    "version": 3
   },
   "file_extension": ".py",
   "mimetype": "text/x-python",
   "name": "python",
   "nbconvert_exporter": "python",
   "pygments_lexer": "ipython3",
   "version": "3.6.2"
  },
  "orig_nbformat": 4,
  "vscode": {
   "interpreter": {
    "hash": "5101fdaab3cf3d3e08bb52931d9e81fe01e2a86a264a5f0d2a64a0493622ff29"
   }
  }
 },
 "nbformat": 4,
 "nbformat_minor": 2
}
